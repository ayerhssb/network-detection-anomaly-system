{
 "cells": [
  {
   "cell_type": "code",
   "execution_count": 1,
   "id": "3b5d0e5d",
   "metadata": {},
   "outputs": [],
   "source": [
    "# import numpy as np\n",
    "# import pandas as pd\n",
    "# import matplotlib.pyplot as plt\n",
    "# import seaborn as sns\n",
    "# import time\n",
    "# from sklearn.preprocessing import LabelEncoder, StandardScaler\n",
    "# from sklearn.linear_model import LogisticRegression\n",
    "# from sklearn.ensemble import RandomForestClassifier\n",
    "# from sklearn.metrics import precision_score, recall_score, f1_score, roc_auc_score, accuracy_score, classification_report, precision_recall_curve\n",
    "# import warnings\n",
    "# warnings.filterwarnings(\"ignore\")"
   ]
  },
  {
   "cell_type": "code",
   "execution_count": 2,
   "id": "a6e75a06",
   "metadata": {},
   "outputs": [],
   "source": [
    "# %pip install tensorflow"
   ]
  },
  {
   "cell_type": "code",
   "execution_count": 3,
   "id": "62c101f2",
   "metadata": {},
   "outputs": [],
   "source": [
    "import numpy as np\n",
    "import pandas as pd\n",
    "import tensorflow as tf\n",
    "import matplotlib.pyplot as plt\n",
    "import seaborn as sns\n",
    "import time\n",
    "import multiprocessing\n",
    "\n",
    "from sklearn.linear_model import LogisticRegression\n",
    "from sklearn.ensemble import RandomForestClassifier\n",
    "from collections import Counter\n",
    "from sklearn.preprocessing import LabelEncoder, StandardScaler\n",
    "from sklearn.svm import SVC\n",
    "# import tensorflow as tf\n",
    "from tensorflow.keras import Sequential\n",
    "from tensorflow.keras.layers import Dense, Dropout\n",
    "from sklearn.metrics import roc_curve, auc\n",
    "\n",
    "from sklearn.model_selection import train_test_split\n",
    "# from imblearn.over_sampling import SMOTE, ADASYN\n",
    "from sklearn.metrics import confusion_matrix, r2_score, mean_squared_error\n",
    "from sklearn.metrics import precision_score, recall_score, f1_score, roc_auc_score, accuracy_score, classification_report, precision_recall_curve\n",
    "import warnings\n",
    "warnings.filterwarnings(\"ignore\")"
   ]
  },
  {
   "cell_type": "code",
   "execution_count": 4,
   "id": "86133d45",
   "metadata": {},
   "outputs": [],
   "source": [
    "df = pd.read_csv('Train_Data.csv')"
   ]
  },
  {
   "cell_type": "code",
   "execution_count": 5,
   "id": "cb0d98f2",
   "metadata": {},
   "outputs": [
    {
     "data": {
      "text/plain": [
       "count    86845.0\n",
       "mean         0.0\n",
       "std          0.0\n",
       "min          0.0\n",
       "25%          0.0\n",
       "50%          0.0\n",
       "75%          0.0\n",
       "max          0.0\n",
       "Name: wrongfragment, dtype: float64"
      ]
     },
     "execution_count": 5,
     "metadata": {},
     "output_type": "execute_result"
    }
   ],
   "source": [
    "df['wrongfragment'].describe()"
   ]
  },
  {
   "cell_type": "code",
   "execution_count": 6,
   "id": "98bb9a02",
   "metadata": {},
   "outputs": [
    {
     "data": {
      "text/html": [
       "<div>\n",
       "<style scoped>\n",
       "    .dataframe tbody tr th:only-of-type {\n",
       "        vertical-align: middle;\n",
       "    }\n",
       "\n",
       "    .dataframe tbody tr th {\n",
       "        vertical-align: top;\n",
       "    }\n",
       "\n",
       "    .dataframe thead th {\n",
       "        text-align: right;\n",
       "    }\n",
       "</style>\n",
       "<table border=\"1\" class=\"dataframe\">\n",
       "  <thead>\n",
       "    <tr style=\"text-align: right;\">\n",
       "      <th></th>\n",
       "      <th>duration</th>\n",
       "      <th>protocoltype</th>\n",
       "      <th>service</th>\n",
       "      <th>flag</th>\n",
       "      <th>srcbytes</th>\n",
       "      <th>dstbytes</th>\n",
       "      <th>land</th>\n",
       "      <th>wrongfragment</th>\n",
       "      <th>urgent</th>\n",
       "      <th>hot</th>\n",
       "      <th>...</th>\n",
       "      <th>dsthostsamesrvrate</th>\n",
       "      <th>dsthostdiffsrvrate</th>\n",
       "      <th>dsthostsamesrcportrate</th>\n",
       "      <th>dsthostsrvdiffhostrate</th>\n",
       "      <th>dsthostserrorrate</th>\n",
       "      <th>dsthostsrvserrorrate</th>\n",
       "      <th>dsthostrerrorrate</th>\n",
       "      <th>dsthostsrvrerrorrate</th>\n",
       "      <th>lastflag</th>\n",
       "      <th>attack</th>\n",
       "    </tr>\n",
       "  </thead>\n",
       "  <tbody>\n",
       "    <tr>\n",
       "      <th>0</th>\n",
       "      <td>0</td>\n",
       "      <td>tcp</td>\n",
       "      <td>netbios_dgm</td>\n",
       "      <td>REJ</td>\n",
       "      <td>0</td>\n",
       "      <td>0</td>\n",
       "      <td>0</td>\n",
       "      <td>0</td>\n",
       "      <td>0</td>\n",
       "      <td>0</td>\n",
       "      <td>...</td>\n",
       "      <td>0.06</td>\n",
       "      <td>0.06</td>\n",
       "      <td>0.00</td>\n",
       "      <td>0.00</td>\n",
       "      <td>0.00</td>\n",
       "      <td>0.0</td>\n",
       "      <td>1.00</td>\n",
       "      <td>1.0</td>\n",
       "      <td>21</td>\n",
       "      <td>neptune</td>\n",
       "    </tr>\n",
       "    <tr>\n",
       "      <th>1</th>\n",
       "      <td>0</td>\n",
       "      <td>tcp</td>\n",
       "      <td>smtp</td>\n",
       "      <td>SF</td>\n",
       "      <td>1239</td>\n",
       "      <td>400</td>\n",
       "      <td>0</td>\n",
       "      <td>0</td>\n",
       "      <td>0</td>\n",
       "      <td>0</td>\n",
       "      <td>...</td>\n",
       "      <td>0.45</td>\n",
       "      <td>0.04</td>\n",
       "      <td>0.00</td>\n",
       "      <td>0.00</td>\n",
       "      <td>0.11</td>\n",
       "      <td>0.0</td>\n",
       "      <td>0.02</td>\n",
       "      <td>0.0</td>\n",
       "      <td>18</td>\n",
       "      <td>normal</td>\n",
       "    </tr>\n",
       "    <tr>\n",
       "      <th>2</th>\n",
       "      <td>0</td>\n",
       "      <td>tcp</td>\n",
       "      <td>http</td>\n",
       "      <td>SF</td>\n",
       "      <td>222</td>\n",
       "      <td>945</td>\n",
       "      <td>0</td>\n",
       "      <td>0</td>\n",
       "      <td>0</td>\n",
       "      <td>0</td>\n",
       "      <td>...</td>\n",
       "      <td>1.00</td>\n",
       "      <td>0.00</td>\n",
       "      <td>0.02</td>\n",
       "      <td>0.03</td>\n",
       "      <td>0.00</td>\n",
       "      <td>0.0</td>\n",
       "      <td>0.00</td>\n",
       "      <td>0.0</td>\n",
       "      <td>21</td>\n",
       "      <td>normal</td>\n",
       "    </tr>\n",
       "    <tr>\n",
       "      <th>3</th>\n",
       "      <td>0</td>\n",
       "      <td>tcp</td>\n",
       "      <td>http</td>\n",
       "      <td>SF</td>\n",
       "      <td>235</td>\n",
       "      <td>1380</td>\n",
       "      <td>0</td>\n",
       "      <td>0</td>\n",
       "      <td>0</td>\n",
       "      <td>0</td>\n",
       "      <td>...</td>\n",
       "      <td>1.00</td>\n",
       "      <td>0.00</td>\n",
       "      <td>0.00</td>\n",
       "      <td>0.00</td>\n",
       "      <td>0.00</td>\n",
       "      <td>0.0</td>\n",
       "      <td>0.00</td>\n",
       "      <td>0.0</td>\n",
       "      <td>21</td>\n",
       "      <td>normal</td>\n",
       "    </tr>\n",
       "    <tr>\n",
       "      <th>4</th>\n",
       "      <td>0</td>\n",
       "      <td>tcp</td>\n",
       "      <td>uucp_path</td>\n",
       "      <td>REJ</td>\n",
       "      <td>0</td>\n",
       "      <td>0</td>\n",
       "      <td>0</td>\n",
       "      <td>0</td>\n",
       "      <td>0</td>\n",
       "      <td>0</td>\n",
       "      <td>...</td>\n",
       "      <td>0.01</td>\n",
       "      <td>0.08</td>\n",
       "      <td>0.00</td>\n",
       "      <td>0.00</td>\n",
       "      <td>0.00</td>\n",
       "      <td>0.0</td>\n",
       "      <td>1.00</td>\n",
       "      <td>1.0</td>\n",
       "      <td>19</td>\n",
       "      <td>neptune</td>\n",
       "    </tr>\n",
       "  </tbody>\n",
       "</table>\n",
       "<p>5 rows × 43 columns</p>\n",
       "</div>"
      ],
      "text/plain": [
       "   duration protocoltype      service flag  srcbytes  dstbytes  land   \n",
       "0         0          tcp  netbios_dgm  REJ         0         0     0  \\\n",
       "1         0          tcp         smtp   SF      1239       400     0   \n",
       "2         0          tcp         http   SF       222       945     0   \n",
       "3         0          tcp         http   SF       235      1380     0   \n",
       "4         0          tcp    uucp_path  REJ         0         0     0   \n",
       "\n",
       "   wrongfragment  urgent  hot  ...  dsthostsamesrvrate  dsthostdiffsrvrate   \n",
       "0              0       0    0  ...                0.06                0.06  \\\n",
       "1              0       0    0  ...                0.45                0.04   \n",
       "2              0       0    0  ...                1.00                0.00   \n",
       "3              0       0    0  ...                1.00                0.00   \n",
       "4              0       0    0  ...                0.01                0.08   \n",
       "\n",
       "   dsthostsamesrcportrate  dsthostsrvdiffhostrate  dsthostserrorrate   \n",
       "0                    0.00                    0.00               0.00  \\\n",
       "1                    0.00                    0.00               0.11   \n",
       "2                    0.02                    0.03               0.00   \n",
       "3                    0.00                    0.00               0.00   \n",
       "4                    0.00                    0.00               0.00   \n",
       "\n",
       "   dsthostsrvserrorrate  dsthostrerrorrate  dsthostsrvrerrorrate  lastflag   \n",
       "0                   0.0               1.00                   1.0        21  \\\n",
       "1                   0.0               0.02                   0.0        18   \n",
       "2                   0.0               0.00                   0.0        21   \n",
       "3                   0.0               0.00                   0.0        21   \n",
       "4                   0.0               1.00                   1.0        19   \n",
       "\n",
       "    attack  \n",
       "0  neptune  \n",
       "1   normal  \n",
       "2   normal  \n",
       "3   normal  \n",
       "4  neptune  \n",
       "\n",
       "[5 rows x 43 columns]"
      ]
     },
     "execution_count": 6,
     "metadata": {},
     "output_type": "execute_result"
    }
   ],
   "source": [
    "df.head()"
   ]
  },
  {
   "cell_type": "code",
   "execution_count": 7,
   "id": "f8f1d0b8",
   "metadata": {},
   "outputs": [
    {
     "data": {
      "text/plain": [
       "(86845, 43)"
      ]
     },
     "execution_count": 7,
     "metadata": {},
     "output_type": "execute_result"
    }
   ],
   "source": [
    "df.shape"
   ]
  },
  {
   "cell_type": "code",
   "execution_count": 8,
   "id": "7e7ae4ec",
   "metadata": {},
   "outputs": [
    {
     "data": {
      "text/html": [
       "<div>\n",
       "<style scoped>\n",
       "    .dataframe tbody tr th:only-of-type {\n",
       "        vertical-align: middle;\n",
       "    }\n",
       "\n",
       "    .dataframe tbody tr th {\n",
       "        vertical-align: top;\n",
       "    }\n",
       "\n",
       "    .dataframe thead th {\n",
       "        text-align: right;\n",
       "    }\n",
       "</style>\n",
       "<table border=\"1\" class=\"dataframe\">\n",
       "  <thead>\n",
       "    <tr style=\"text-align: right;\">\n",
       "      <th></th>\n",
       "      <th>duration</th>\n",
       "      <th>srcbytes</th>\n",
       "      <th>dstbytes</th>\n",
       "      <th>land</th>\n",
       "      <th>wrongfragment</th>\n",
       "      <th>urgent</th>\n",
       "      <th>hot</th>\n",
       "      <th>numfailedlogins</th>\n",
       "      <th>loggedin</th>\n",
       "      <th>numcompromised</th>\n",
       "      <th>...</th>\n",
       "      <th>dsthostsrvcount</th>\n",
       "      <th>dsthostsamesrvrate</th>\n",
       "      <th>dsthostdiffsrvrate</th>\n",
       "      <th>dsthostsamesrcportrate</th>\n",
       "      <th>dsthostsrvdiffhostrate</th>\n",
       "      <th>dsthostserrorrate</th>\n",
       "      <th>dsthostsrvserrorrate</th>\n",
       "      <th>dsthostrerrorrate</th>\n",
       "      <th>dsthostsrvrerrorrate</th>\n",
       "      <th>lastflag</th>\n",
       "    </tr>\n",
       "  </thead>\n",
       "  <tbody>\n",
       "    <tr>\n",
       "      <th>count</th>\n",
       "      <td>86845.000000</td>\n",
       "      <td>8.684500e+04</td>\n",
       "      <td>8.684500e+04</td>\n",
       "      <td>86845.000000</td>\n",
       "      <td>86845.0</td>\n",
       "      <td>86845.000000</td>\n",
       "      <td>86845.000000</td>\n",
       "      <td>86845.000000</td>\n",
       "      <td>86845.000000</td>\n",
       "      <td>86845.000000</td>\n",
       "      <td>...</td>\n",
       "      <td>86845.000000</td>\n",
       "      <td>86845.000000</td>\n",
       "      <td>86845.000000</td>\n",
       "      <td>86845.000000</td>\n",
       "      <td>86845.000000</td>\n",
       "      <td>86845.000000</td>\n",
       "      <td>86845.000000</td>\n",
       "      <td>86845.000000</td>\n",
       "      <td>86845.000000</td>\n",
       "      <td>86845.000000</td>\n",
       "    </tr>\n",
       "    <tr>\n",
       "      <th>mean</th>\n",
       "      <td>104.166872</td>\n",
       "      <td>8.455707e+03</td>\n",
       "      <td>2.732095e+03</td>\n",
       "      <td>0.000046</td>\n",
       "      <td>0.0</td>\n",
       "      <td>0.000035</td>\n",
       "      <td>0.144971</td>\n",
       "      <td>0.000771</td>\n",
       "      <td>0.441142</td>\n",
       "      <td>0.320583</td>\n",
       "      <td>...</td>\n",
       "      <td>123.338269</td>\n",
       "      <td>0.526457</td>\n",
       "      <td>0.050186</td>\n",
       "      <td>0.075810</td>\n",
       "      <td>0.016246</td>\n",
       "      <td>0.324666</td>\n",
       "      <td>0.318934</td>\n",
       "      <td>0.092391</td>\n",
       "      <td>0.091045</td>\n",
       "      <td>20.060522</td>\n",
       "    </tr>\n",
       "    <tr>\n",
       "      <th>std</th>\n",
       "      <td>1038.273538</td>\n",
       "      <td>3.582141e+05</td>\n",
       "      <td>5.543041e+04</td>\n",
       "      <td>0.006787</td>\n",
       "      <td>0.0</td>\n",
       "      <td>0.007588</td>\n",
       "      <td>1.837958</td>\n",
       "      <td>0.037009</td>\n",
       "      <td>0.496527</td>\n",
       "      <td>27.993474</td>\n",
       "      <td>...</td>\n",
       "      <td>112.704010</td>\n",
       "      <td>0.447353</td>\n",
       "      <td>0.103323</td>\n",
       "      <td>0.208388</td>\n",
       "      <td>0.055271</td>\n",
       "      <td>0.464291</td>\n",
       "      <td>0.463506</td>\n",
       "      <td>0.282768</td>\n",
       "      <td>0.281452</td>\n",
       "      <td>1.421425</td>\n",
       "    </tr>\n",
       "    <tr>\n",
       "      <th>min</th>\n",
       "      <td>0.000000</td>\n",
       "      <td>0.000000e+00</td>\n",
       "      <td>0.000000e+00</td>\n",
       "      <td>0.000000</td>\n",
       "      <td>0.0</td>\n",
       "      <td>0.000000</td>\n",
       "      <td>0.000000</td>\n",
       "      <td>0.000000</td>\n",
       "      <td>0.000000</td>\n",
       "      <td>0.000000</td>\n",
       "      <td>...</td>\n",
       "      <td>0.000000</td>\n",
       "      <td>0.000000</td>\n",
       "      <td>0.000000</td>\n",
       "      <td>0.000000</td>\n",
       "      <td>0.000000</td>\n",
       "      <td>0.000000</td>\n",
       "      <td>0.000000</td>\n",
       "      <td>0.000000</td>\n",
       "      <td>0.000000</td>\n",
       "      <td>1.000000</td>\n",
       "    </tr>\n",
       "    <tr>\n",
       "      <th>25%</th>\n",
       "      <td>0.000000</td>\n",
       "      <td>0.000000e+00</td>\n",
       "      <td>0.000000e+00</td>\n",
       "      <td>0.000000</td>\n",
       "      <td>0.0</td>\n",
       "      <td>0.000000</td>\n",
       "      <td>0.000000</td>\n",
       "      <td>0.000000</td>\n",
       "      <td>0.000000</td>\n",
       "      <td>0.000000</td>\n",
       "      <td>...</td>\n",
       "      <td>12.000000</td>\n",
       "      <td>0.050000</td>\n",
       "      <td>0.000000</td>\n",
       "      <td>0.000000</td>\n",
       "      <td>0.000000</td>\n",
       "      <td>0.000000</td>\n",
       "      <td>0.000000</td>\n",
       "      <td>0.000000</td>\n",
       "      <td>0.000000</td>\n",
       "      <td>19.000000</td>\n",
       "    </tr>\n",
       "    <tr>\n",
       "      <th>50%</th>\n",
       "      <td>0.000000</td>\n",
       "      <td>4.600000e+01</td>\n",
       "      <td>4.400000e+01</td>\n",
       "      <td>0.000000</td>\n",
       "      <td>0.0</td>\n",
       "      <td>0.000000</td>\n",
       "      <td>0.000000</td>\n",
       "      <td>0.000000</td>\n",
       "      <td>0.000000</td>\n",
       "      <td>0.000000</td>\n",
       "      <td>...</td>\n",
       "      <td>77.000000</td>\n",
       "      <td>0.550000</td>\n",
       "      <td>0.030000</td>\n",
       "      <td>0.000000</td>\n",
       "      <td>0.000000</td>\n",
       "      <td>0.000000</td>\n",
       "      <td>0.000000</td>\n",
       "      <td>0.000000</td>\n",
       "      <td>0.000000</td>\n",
       "      <td>21.000000</td>\n",
       "    </tr>\n",
       "    <tr>\n",
       "      <th>75%</th>\n",
       "      <td>0.000000</td>\n",
       "      <td>2.720000e+02</td>\n",
       "      <td>7.680000e+02</td>\n",
       "      <td>0.000000</td>\n",
       "      <td>0.0</td>\n",
       "      <td>0.000000</td>\n",
       "      <td>0.000000</td>\n",
       "      <td>0.000000</td>\n",
       "      <td>1.000000</td>\n",
       "      <td>0.000000</td>\n",
       "      <td>...</td>\n",
       "      <td>255.000000</td>\n",
       "      <td>1.000000</td>\n",
       "      <td>0.070000</td>\n",
       "      <td>0.020000</td>\n",
       "      <td>0.010000</td>\n",
       "      <td>1.000000</td>\n",
       "      <td>1.000000</td>\n",
       "      <td>0.000000</td>\n",
       "      <td>0.000000</td>\n",
       "      <td>21.000000</td>\n",
       "    </tr>\n",
       "    <tr>\n",
       "      <th>max</th>\n",
       "      <td>40504.000000</td>\n",
       "      <td>8.958152e+07</td>\n",
       "      <td>7.028652e+06</td>\n",
       "      <td>1.000000</td>\n",
       "      <td>0.0</td>\n",
       "      <td>2.000000</td>\n",
       "      <td>77.000000</td>\n",
       "      <td>4.000000</td>\n",
       "      <td>1.000000</td>\n",
       "      <td>7479.000000</td>\n",
       "      <td>...</td>\n",
       "      <td>255.000000</td>\n",
       "      <td>1.000000</td>\n",
       "      <td>1.000000</td>\n",
       "      <td>1.000000</td>\n",
       "      <td>1.000000</td>\n",
       "      <td>1.000000</td>\n",
       "      <td>1.000000</td>\n",
       "      <td>1.000000</td>\n",
       "      <td>1.000000</td>\n",
       "      <td>21.000000</td>\n",
       "    </tr>\n",
       "  </tbody>\n",
       "</table>\n",
       "<p>8 rows × 39 columns</p>\n",
       "</div>"
      ],
      "text/plain": [
       "           duration      srcbytes      dstbytes          land  wrongfragment   \n",
       "count  86845.000000  8.684500e+04  8.684500e+04  86845.000000        86845.0  \\\n",
       "mean     104.166872  8.455707e+03  2.732095e+03      0.000046            0.0   \n",
       "std     1038.273538  3.582141e+05  5.543041e+04      0.006787            0.0   \n",
       "min        0.000000  0.000000e+00  0.000000e+00      0.000000            0.0   \n",
       "25%        0.000000  0.000000e+00  0.000000e+00      0.000000            0.0   \n",
       "50%        0.000000  4.600000e+01  4.400000e+01      0.000000            0.0   \n",
       "75%        0.000000  2.720000e+02  7.680000e+02      0.000000            0.0   \n",
       "max    40504.000000  8.958152e+07  7.028652e+06      1.000000            0.0   \n",
       "\n",
       "             urgent           hot  numfailedlogins      loggedin   \n",
       "count  86845.000000  86845.000000     86845.000000  86845.000000  \\\n",
       "mean       0.000035      0.144971         0.000771      0.441142   \n",
       "std        0.007588      1.837958         0.037009      0.496527   \n",
       "min        0.000000      0.000000         0.000000      0.000000   \n",
       "25%        0.000000      0.000000         0.000000      0.000000   \n",
       "50%        0.000000      0.000000         0.000000      0.000000   \n",
       "75%        0.000000      0.000000         0.000000      1.000000   \n",
       "max        2.000000     77.000000         4.000000      1.000000   \n",
       "\n",
       "       numcompromised  ...  dsthostsrvcount  dsthostsamesrvrate   \n",
       "count    86845.000000  ...     86845.000000        86845.000000  \\\n",
       "mean         0.320583  ...       123.338269            0.526457   \n",
       "std         27.993474  ...       112.704010            0.447353   \n",
       "min          0.000000  ...         0.000000            0.000000   \n",
       "25%          0.000000  ...        12.000000            0.050000   \n",
       "50%          0.000000  ...        77.000000            0.550000   \n",
       "75%          0.000000  ...       255.000000            1.000000   \n",
       "max       7479.000000  ...       255.000000            1.000000   \n",
       "\n",
       "       dsthostdiffsrvrate  dsthostsamesrcportrate  dsthostsrvdiffhostrate   \n",
       "count        86845.000000            86845.000000            86845.000000  \\\n",
       "mean             0.050186                0.075810                0.016246   \n",
       "std              0.103323                0.208388                0.055271   \n",
       "min              0.000000                0.000000                0.000000   \n",
       "25%              0.000000                0.000000                0.000000   \n",
       "50%              0.030000                0.000000                0.000000   \n",
       "75%              0.070000                0.020000                0.010000   \n",
       "max              1.000000                1.000000                1.000000   \n",
       "\n",
       "       dsthostserrorrate  dsthostsrvserrorrate  dsthostrerrorrate   \n",
       "count       86845.000000          86845.000000       86845.000000  \\\n",
       "mean            0.324666              0.318934           0.092391   \n",
       "std             0.464291              0.463506           0.282768   \n",
       "min             0.000000              0.000000           0.000000   \n",
       "25%             0.000000              0.000000           0.000000   \n",
       "50%             0.000000              0.000000           0.000000   \n",
       "75%             1.000000              1.000000           0.000000   \n",
       "max             1.000000              1.000000           1.000000   \n",
       "\n",
       "       dsthostsrvrerrorrate      lastflag  \n",
       "count          86845.000000  86845.000000  \n",
       "mean               0.091045     20.060522  \n",
       "std                0.281452      1.421425  \n",
       "min                0.000000      1.000000  \n",
       "25%                0.000000     19.000000  \n",
       "50%                0.000000     21.000000  \n",
       "75%                0.000000     21.000000  \n",
       "max                1.000000     21.000000  \n",
       "\n",
       "[8 rows x 39 columns]"
      ]
     },
     "execution_count": 8,
     "metadata": {},
     "output_type": "execute_result"
    }
   ],
   "source": [
    "df.describe()"
   ]
  },
  {
   "cell_type": "code",
   "execution_count": 9,
   "id": "2fa52ee3",
   "metadata": {},
   "outputs": [
    {
     "data": {
      "text/plain": [
       "duration                  0\n",
       "protocoltype              0\n",
       "service                   0\n",
       "flag                      0\n",
       "srcbytes                  0\n",
       "dstbytes                  0\n",
       "land                      0\n",
       "wrongfragment             0\n",
       "urgent                    0\n",
       "hot                       0\n",
       "numfailedlogins           0\n",
       "loggedin                  0\n",
       "numcompromised            0\n",
       "rootshell                 0\n",
       "suattempted               0\n",
       "numroot                   0\n",
       "numfilecreations          0\n",
       "numshells                 0\n",
       "numaccessfiles            0\n",
       "numoutboundcmds           0\n",
       "ishostlogin               0\n",
       "isguestlogin              0\n",
       "count                     0\n",
       "srvcount                  0\n",
       "serrorrate                0\n",
       "srvserrorrate             0\n",
       "rerrorrate                0\n",
       "srvrerrorrate             0\n",
       "samesrvrate               0\n",
       "diffsrvrate               0\n",
       "srvdiffhostrate           0\n",
       "dsthostcount              0\n",
       "dsthostsrvcount           0\n",
       "dsthostsamesrvrate        0\n",
       "dsthostdiffsrvrate        0\n",
       "dsthostsamesrcportrate    0\n",
       "dsthostsrvdiffhostrate    0\n",
       "dsthostserrorrate         0\n",
       "dsthostsrvserrorrate      0\n",
       "dsthostrerrorrate         0\n",
       "dsthostsrvrerrorrate      0\n",
       "lastflag                  0\n",
       "attack                    0\n",
       "dtype: int64"
      ]
     },
     "execution_count": 9,
     "metadata": {},
     "output_type": "execute_result"
    }
   ],
   "source": [
    "df.isnull().sum()"
   ]
  },
  {
   "cell_type": "code",
   "execution_count": 10,
   "id": "48f2b0cd",
   "metadata": {},
   "outputs": [],
   "source": [
    "df = df.drop(['land', 'urgent', 'numoutboundcmds' ,'numfailedlogins'], axis=1)"
   ]
  },
  {
   "cell_type": "code",
   "execution_count": 11,
   "id": "0a546d27",
   "metadata": {},
   "outputs": [
    {
     "data": {
      "text/plain": [
       "(86845, 39)"
      ]
     },
     "execution_count": 11,
     "metadata": {},
     "output_type": "execute_result"
    }
   ],
   "source": [
    "df.shape"
   ]
  },
  {
   "cell_type": "code",
   "execution_count": 12,
   "id": "1430fcd4",
   "metadata": {},
   "outputs": [
    {
     "data": {
      "text/html": [
       "<div>\n",
       "<style scoped>\n",
       "    .dataframe tbody tr th:only-of-type {\n",
       "        vertical-align: middle;\n",
       "    }\n",
       "\n",
       "    .dataframe tbody tr th {\n",
       "        vertical-align: top;\n",
       "    }\n",
       "\n",
       "    .dataframe thead th {\n",
       "        text-align: right;\n",
       "    }\n",
       "</style>\n",
       "<table border=\"1\" class=\"dataframe\">\n",
       "  <thead>\n",
       "    <tr style=\"text-align: right;\">\n",
       "      <th></th>\n",
       "      <th>duration</th>\n",
       "      <th>srcbytes</th>\n",
       "      <th>dstbytes</th>\n",
       "      <th>wrongfragment</th>\n",
       "      <th>hot</th>\n",
       "      <th>loggedin</th>\n",
       "      <th>numcompromised</th>\n",
       "      <th>rootshell</th>\n",
       "      <th>suattempted</th>\n",
       "      <th>numroot</th>\n",
       "      <th>...</th>\n",
       "      <th>dsthostsrvcount</th>\n",
       "      <th>dsthostsamesrvrate</th>\n",
       "      <th>dsthostdiffsrvrate</th>\n",
       "      <th>dsthostsamesrcportrate</th>\n",
       "      <th>dsthostsrvdiffhostrate</th>\n",
       "      <th>dsthostserrorrate</th>\n",
       "      <th>dsthostsrvserrorrate</th>\n",
       "      <th>dsthostrerrorrate</th>\n",
       "      <th>dsthostsrvrerrorrate</th>\n",
       "      <th>lastflag</th>\n",
       "    </tr>\n",
       "  </thead>\n",
       "  <tbody>\n",
       "    <tr>\n",
       "      <th>count</th>\n",
       "      <td>86845.000000</td>\n",
       "      <td>8.684500e+04</td>\n",
       "      <td>8.684500e+04</td>\n",
       "      <td>86845.0</td>\n",
       "      <td>86845.000000</td>\n",
       "      <td>86845.000000</td>\n",
       "      <td>86845.000000</td>\n",
       "      <td>86845.000000</td>\n",
       "      <td>86845.000000</td>\n",
       "      <td>86845.000000</td>\n",
       "      <td>...</td>\n",
       "      <td>86845.000000</td>\n",
       "      <td>86845.000000</td>\n",
       "      <td>86845.000000</td>\n",
       "      <td>86845.000000</td>\n",
       "      <td>86845.000000</td>\n",
       "      <td>86845.000000</td>\n",
       "      <td>86845.000000</td>\n",
       "      <td>86845.000000</td>\n",
       "      <td>86845.000000</td>\n",
       "      <td>86845.000000</td>\n",
       "    </tr>\n",
       "    <tr>\n",
       "      <th>mean</th>\n",
       "      <td>104.166872</td>\n",
       "      <td>8.455707e+03</td>\n",
       "      <td>2.732095e+03</td>\n",
       "      <td>0.0</td>\n",
       "      <td>0.144971</td>\n",
       "      <td>0.441142</td>\n",
       "      <td>0.320583</td>\n",
       "      <td>0.001347</td>\n",
       "      <td>0.001267</td>\n",
       "      <td>0.356382</td>\n",
       "      <td>...</td>\n",
       "      <td>123.338269</td>\n",
       "      <td>0.526457</td>\n",
       "      <td>0.050186</td>\n",
       "      <td>0.075810</td>\n",
       "      <td>0.016246</td>\n",
       "      <td>0.324666</td>\n",
       "      <td>0.318934</td>\n",
       "      <td>0.092391</td>\n",
       "      <td>0.091045</td>\n",
       "      <td>20.060522</td>\n",
       "    </tr>\n",
       "    <tr>\n",
       "      <th>std</th>\n",
       "      <td>1038.273538</td>\n",
       "      <td>3.582141e+05</td>\n",
       "      <td>5.543041e+04</td>\n",
       "      <td>0.0</td>\n",
       "      <td>1.837958</td>\n",
       "      <td>0.496527</td>\n",
       "      <td>27.993474</td>\n",
       "      <td>0.036680</td>\n",
       "      <td>0.048450</td>\n",
       "      <td>28.415210</td>\n",
       "      <td>...</td>\n",
       "      <td>112.704010</td>\n",
       "      <td>0.447353</td>\n",
       "      <td>0.103323</td>\n",
       "      <td>0.208388</td>\n",
       "      <td>0.055271</td>\n",
       "      <td>0.464291</td>\n",
       "      <td>0.463506</td>\n",
       "      <td>0.282768</td>\n",
       "      <td>0.281452</td>\n",
       "      <td>1.421425</td>\n",
       "    </tr>\n",
       "    <tr>\n",
       "      <th>min</th>\n",
       "      <td>0.000000</td>\n",
       "      <td>0.000000e+00</td>\n",
       "      <td>0.000000e+00</td>\n",
       "      <td>0.0</td>\n",
       "      <td>0.000000</td>\n",
       "      <td>0.000000</td>\n",
       "      <td>0.000000</td>\n",
       "      <td>0.000000</td>\n",
       "      <td>0.000000</td>\n",
       "      <td>0.000000</td>\n",
       "      <td>...</td>\n",
       "      <td>0.000000</td>\n",
       "      <td>0.000000</td>\n",
       "      <td>0.000000</td>\n",
       "      <td>0.000000</td>\n",
       "      <td>0.000000</td>\n",
       "      <td>0.000000</td>\n",
       "      <td>0.000000</td>\n",
       "      <td>0.000000</td>\n",
       "      <td>0.000000</td>\n",
       "      <td>1.000000</td>\n",
       "    </tr>\n",
       "    <tr>\n",
       "      <th>25%</th>\n",
       "      <td>0.000000</td>\n",
       "      <td>0.000000e+00</td>\n",
       "      <td>0.000000e+00</td>\n",
       "      <td>0.0</td>\n",
       "      <td>0.000000</td>\n",
       "      <td>0.000000</td>\n",
       "      <td>0.000000</td>\n",
       "      <td>0.000000</td>\n",
       "      <td>0.000000</td>\n",
       "      <td>0.000000</td>\n",
       "      <td>...</td>\n",
       "      <td>12.000000</td>\n",
       "      <td>0.050000</td>\n",
       "      <td>0.000000</td>\n",
       "      <td>0.000000</td>\n",
       "      <td>0.000000</td>\n",
       "      <td>0.000000</td>\n",
       "      <td>0.000000</td>\n",
       "      <td>0.000000</td>\n",
       "      <td>0.000000</td>\n",
       "      <td>19.000000</td>\n",
       "    </tr>\n",
       "    <tr>\n",
       "      <th>50%</th>\n",
       "      <td>0.000000</td>\n",
       "      <td>4.600000e+01</td>\n",
       "      <td>4.400000e+01</td>\n",
       "      <td>0.0</td>\n",
       "      <td>0.000000</td>\n",
       "      <td>0.000000</td>\n",
       "      <td>0.000000</td>\n",
       "      <td>0.000000</td>\n",
       "      <td>0.000000</td>\n",
       "      <td>0.000000</td>\n",
       "      <td>...</td>\n",
       "      <td>77.000000</td>\n",
       "      <td>0.550000</td>\n",
       "      <td>0.030000</td>\n",
       "      <td>0.000000</td>\n",
       "      <td>0.000000</td>\n",
       "      <td>0.000000</td>\n",
       "      <td>0.000000</td>\n",
       "      <td>0.000000</td>\n",
       "      <td>0.000000</td>\n",
       "      <td>21.000000</td>\n",
       "    </tr>\n",
       "    <tr>\n",
       "      <th>75%</th>\n",
       "      <td>0.000000</td>\n",
       "      <td>2.720000e+02</td>\n",
       "      <td>7.680000e+02</td>\n",
       "      <td>0.0</td>\n",
       "      <td>0.000000</td>\n",
       "      <td>1.000000</td>\n",
       "      <td>0.000000</td>\n",
       "      <td>0.000000</td>\n",
       "      <td>0.000000</td>\n",
       "      <td>0.000000</td>\n",
       "      <td>...</td>\n",
       "      <td>255.000000</td>\n",
       "      <td>1.000000</td>\n",
       "      <td>0.070000</td>\n",
       "      <td>0.020000</td>\n",
       "      <td>0.010000</td>\n",
       "      <td>1.000000</td>\n",
       "      <td>1.000000</td>\n",
       "      <td>0.000000</td>\n",
       "      <td>0.000000</td>\n",
       "      <td>21.000000</td>\n",
       "    </tr>\n",
       "    <tr>\n",
       "      <th>max</th>\n",
       "      <td>40504.000000</td>\n",
       "      <td>8.958152e+07</td>\n",
       "      <td>7.028652e+06</td>\n",
       "      <td>0.0</td>\n",
       "      <td>77.000000</td>\n",
       "      <td>1.000000</td>\n",
       "      <td>7479.000000</td>\n",
       "      <td>1.000000</td>\n",
       "      <td>2.000000</td>\n",
       "      <td>7468.000000</td>\n",
       "      <td>...</td>\n",
       "      <td>255.000000</td>\n",
       "      <td>1.000000</td>\n",
       "      <td>1.000000</td>\n",
       "      <td>1.000000</td>\n",
       "      <td>1.000000</td>\n",
       "      <td>1.000000</td>\n",
       "      <td>1.000000</td>\n",
       "      <td>1.000000</td>\n",
       "      <td>1.000000</td>\n",
       "      <td>21.000000</td>\n",
       "    </tr>\n",
       "  </tbody>\n",
       "</table>\n",
       "<p>8 rows × 35 columns</p>\n",
       "</div>"
      ],
      "text/plain": [
       "           duration      srcbytes      dstbytes  wrongfragment           hot   \n",
       "count  86845.000000  8.684500e+04  8.684500e+04        86845.0  86845.000000  \\\n",
       "mean     104.166872  8.455707e+03  2.732095e+03            0.0      0.144971   \n",
       "std     1038.273538  3.582141e+05  5.543041e+04            0.0      1.837958   \n",
       "min        0.000000  0.000000e+00  0.000000e+00            0.0      0.000000   \n",
       "25%        0.000000  0.000000e+00  0.000000e+00            0.0      0.000000   \n",
       "50%        0.000000  4.600000e+01  4.400000e+01            0.0      0.000000   \n",
       "75%        0.000000  2.720000e+02  7.680000e+02            0.0      0.000000   \n",
       "max    40504.000000  8.958152e+07  7.028652e+06            0.0     77.000000   \n",
       "\n",
       "           loggedin  numcompromised     rootshell   suattempted       numroot   \n",
       "count  86845.000000    86845.000000  86845.000000  86845.000000  86845.000000  \\\n",
       "mean       0.441142        0.320583      0.001347      0.001267      0.356382   \n",
       "std        0.496527       27.993474      0.036680      0.048450     28.415210   \n",
       "min        0.000000        0.000000      0.000000      0.000000      0.000000   \n",
       "25%        0.000000        0.000000      0.000000      0.000000      0.000000   \n",
       "50%        0.000000        0.000000      0.000000      0.000000      0.000000   \n",
       "75%        1.000000        0.000000      0.000000      0.000000      0.000000   \n",
       "max        1.000000     7479.000000      1.000000      2.000000   7468.000000   \n",
       "\n",
       "       ...  dsthostsrvcount  dsthostsamesrvrate  dsthostdiffsrvrate   \n",
       "count  ...     86845.000000        86845.000000        86845.000000  \\\n",
       "mean   ...       123.338269            0.526457            0.050186   \n",
       "std    ...       112.704010            0.447353            0.103323   \n",
       "min    ...         0.000000            0.000000            0.000000   \n",
       "25%    ...        12.000000            0.050000            0.000000   \n",
       "50%    ...        77.000000            0.550000            0.030000   \n",
       "75%    ...       255.000000            1.000000            0.070000   \n",
       "max    ...       255.000000            1.000000            1.000000   \n",
       "\n",
       "       dsthostsamesrcportrate  dsthostsrvdiffhostrate  dsthostserrorrate   \n",
       "count            86845.000000            86845.000000       86845.000000  \\\n",
       "mean                 0.075810                0.016246           0.324666   \n",
       "std                  0.208388                0.055271           0.464291   \n",
       "min                  0.000000                0.000000           0.000000   \n",
       "25%                  0.000000                0.000000           0.000000   \n",
       "50%                  0.000000                0.000000           0.000000   \n",
       "75%                  0.020000                0.010000           1.000000   \n",
       "max                  1.000000                1.000000           1.000000   \n",
       "\n",
       "       dsthostsrvserrorrate  dsthostrerrorrate  dsthostsrvrerrorrate   \n",
       "count          86845.000000       86845.000000          86845.000000  \\\n",
       "mean               0.318934           0.092391              0.091045   \n",
       "std                0.463506           0.282768              0.281452   \n",
       "min                0.000000           0.000000              0.000000   \n",
       "25%                0.000000           0.000000              0.000000   \n",
       "50%                0.000000           0.000000              0.000000   \n",
       "75%                1.000000           0.000000              0.000000   \n",
       "max                1.000000           1.000000              1.000000   \n",
       "\n",
       "           lastflag  \n",
       "count  86845.000000  \n",
       "mean      20.060522  \n",
       "std        1.421425  \n",
       "min        1.000000  \n",
       "25%       19.000000  \n",
       "50%       21.000000  \n",
       "75%       21.000000  \n",
       "max       21.000000  \n",
       "\n",
       "[8 rows x 35 columns]"
      ]
     },
     "execution_count": 12,
     "metadata": {},
     "output_type": "execute_result"
    }
   ],
   "source": [
    "df.describe()"
   ]
  },
  {
   "cell_type": "code",
   "execution_count": 13,
   "id": "0d9d5e68",
   "metadata": {},
   "outputs": [
    {
     "data": {
      "text/plain": [
       "duration                    int64\n",
       "protocoltype               object\n",
       "service                    object\n",
       "flag                       object\n",
       "srcbytes                    int64\n",
       "dstbytes                    int64\n",
       "wrongfragment               int64\n",
       "hot                         int64\n",
       "loggedin                    int64\n",
       "numcompromised              int64\n",
       "rootshell                   int64\n",
       "suattempted                 int64\n",
       "numroot                     int64\n",
       "numfilecreations            int64\n",
       "numshells                   int64\n",
       "numaccessfiles              int64\n",
       "ishostlogin                 int64\n",
       "isguestlogin                int64\n",
       "count                       int64\n",
       "srvcount                    int64\n",
       "serrorrate                float64\n",
       "srvserrorrate             float64\n",
       "rerrorrate                float64\n",
       "srvrerrorrate             float64\n",
       "samesrvrate               float64\n",
       "diffsrvrate               float64\n",
       "srvdiffhostrate           float64\n",
       "dsthostcount                int64\n",
       "dsthostsrvcount             int64\n",
       "dsthostsamesrvrate        float64\n",
       "dsthostdiffsrvrate        float64\n",
       "dsthostsamesrcportrate    float64\n",
       "dsthostsrvdiffhostrate    float64\n",
       "dsthostserrorrate         float64\n",
       "dsthostsrvserrorrate      float64\n",
       "dsthostrerrorrate         float64\n",
       "dsthostsrvrerrorrate      float64\n",
       "lastflag                    int64\n",
       "attack                     object\n",
       "dtype: object"
      ]
     },
     "execution_count": 13,
     "metadata": {},
     "output_type": "execute_result"
    }
   ],
   "source": [
    "df.dtypes"
   ]
  },
  {
   "cell_type": "code",
   "execution_count": 14,
   "id": "60ad8e33",
   "metadata": {},
   "outputs": [
    {
     "data": {
      "text/html": [
       "<div>\n",
       "<style scoped>\n",
       "    .dataframe tbody tr th:only-of-type {\n",
       "        vertical-align: middle;\n",
       "    }\n",
       "\n",
       "    .dataframe tbody tr th {\n",
       "        vertical-align: top;\n",
       "    }\n",
       "\n",
       "    .dataframe thead th {\n",
       "        text-align: right;\n",
       "    }\n",
       "</style>\n",
       "<table border=\"1\" class=\"dataframe\">\n",
       "  <thead>\n",
       "    <tr style=\"text-align: right;\">\n",
       "      <th></th>\n",
       "      <th>protocoltype</th>\n",
       "      <th>service</th>\n",
       "      <th>flag</th>\n",
       "      <th>attack</th>\n",
       "    </tr>\n",
       "  </thead>\n",
       "  <tbody>\n",
       "    <tr>\n",
       "      <th>0</th>\n",
       "      <td>tcp</td>\n",
       "      <td>netbios_dgm</td>\n",
       "      <td>REJ</td>\n",
       "      <td>neptune</td>\n",
       "    </tr>\n",
       "    <tr>\n",
       "      <th>1</th>\n",
       "      <td>tcp</td>\n",
       "      <td>smtp</td>\n",
       "      <td>SF</td>\n",
       "      <td>normal</td>\n",
       "    </tr>\n",
       "    <tr>\n",
       "      <th>2</th>\n",
       "      <td>tcp</td>\n",
       "      <td>http</td>\n",
       "      <td>SF</td>\n",
       "      <td>normal</td>\n",
       "    </tr>\n",
       "    <tr>\n",
       "      <th>3</th>\n",
       "      <td>tcp</td>\n",
       "      <td>http</td>\n",
       "      <td>SF</td>\n",
       "      <td>normal</td>\n",
       "    </tr>\n",
       "    <tr>\n",
       "      <th>4</th>\n",
       "      <td>tcp</td>\n",
       "      <td>uucp_path</td>\n",
       "      <td>REJ</td>\n",
       "      <td>neptune</td>\n",
       "    </tr>\n",
       "    <tr>\n",
       "      <th>...</th>\n",
       "      <td>...</td>\n",
       "      <td>...</td>\n",
       "      <td>...</td>\n",
       "      <td>...</td>\n",
       "    </tr>\n",
       "    <tr>\n",
       "      <th>86840</th>\n",
       "      <td>tcp</td>\n",
       "      <td>http</td>\n",
       "      <td>SF</td>\n",
       "      <td>normal</td>\n",
       "    </tr>\n",
       "    <tr>\n",
       "      <th>86841</th>\n",
       "      <td>tcp</td>\n",
       "      <td>http</td>\n",
       "      <td>SF</td>\n",
       "      <td>normal</td>\n",
       "    </tr>\n",
       "    <tr>\n",
       "      <th>86842</th>\n",
       "      <td>tcp</td>\n",
       "      <td>ftp</td>\n",
       "      <td>SF</td>\n",
       "      <td>normal</td>\n",
       "    </tr>\n",
       "    <tr>\n",
       "      <th>86843</th>\n",
       "      <td>tcp</td>\n",
       "      <td>smtp</td>\n",
       "      <td>SF</td>\n",
       "      <td>normal</td>\n",
       "    </tr>\n",
       "    <tr>\n",
       "      <th>86844</th>\n",
       "      <td>tcp</td>\n",
       "      <td>telnet</td>\n",
       "      <td>SF</td>\n",
       "      <td>normal</td>\n",
       "    </tr>\n",
       "  </tbody>\n",
       "</table>\n",
       "<p>86845 rows × 4 columns</p>\n",
       "</div>"
      ],
      "text/plain": [
       "      protocoltype      service flag   attack\n",
       "0              tcp  netbios_dgm  REJ  neptune\n",
       "1              tcp         smtp   SF   normal\n",
       "2              tcp         http   SF   normal\n",
       "3              tcp         http   SF   normal\n",
       "4              tcp    uucp_path  REJ  neptune\n",
       "...            ...          ...  ...      ...\n",
       "86840          tcp         http   SF   normal\n",
       "86841          tcp         http   SF   normal\n",
       "86842          tcp          ftp   SF   normal\n",
       "86843          tcp         smtp   SF   normal\n",
       "86844          tcp       telnet   SF   normal\n",
       "\n",
       "[86845 rows x 4 columns]"
      ]
     },
     "execution_count": 14,
     "metadata": {},
     "output_type": "execute_result"
    }
   ],
   "source": [
    "df.select_dtypes(exclude=[np.number])"
   ]
  },
  {
   "cell_type": "code",
   "execution_count": 15,
   "id": "5272ea30",
   "metadata": {},
   "outputs": [
    {
     "data": {
      "text/plain": [
       "array(['tcp', 'udp', 'icmp'], dtype=object)"
      ]
     },
     "execution_count": 15,
     "metadata": {},
     "output_type": "execute_result"
    }
   ],
   "source": [
    "df['protocoltype'].unique()\n",
    "# df['service'].unique()\n",
    "# df['flag'].unique()\n",
    "# df['attack'].unique()"
   ]
  },
  {
   "cell_type": "code",
   "execution_count": 16,
   "id": "7ad71d0f",
   "metadata": {},
   "outputs": [],
   "source": [
    "#Applying Label Encoder in these:\n",
    "le = LabelEncoder()"
   ]
  },
  {
   "cell_type": "code",
   "execution_count": 17,
   "id": "3c29c4bc",
   "metadata": {},
   "outputs": [],
   "source": [
    "df['protocoltype']=le.fit_transform(df['protocoltype'])\n",
    "df['service']=le.fit_transform(df['service'])\n",
    "df['flag']=le.fit_transform(df['flag'])\n",
    "df['attack']=le.fit_transform(df['attack'])"
   ]
  },
  {
   "cell_type": "code",
   "execution_count": 26,
   "id": "af6617e2",
   "metadata": {},
   "outputs": [
    {
     "data": {
      "text/plain": [
       "0        0\n",
       "1        1\n",
       "2        1\n",
       "3        1\n",
       "4        0\n",
       "        ..\n",
       "86840    1\n",
       "86841    1\n",
       "86842    1\n",
       "86843    1\n",
       "86844    1\n",
       "Name: attack, Length: 86845, dtype: int32"
      ]
     },
     "execution_count": 26,
     "metadata": {},
     "output_type": "execute_result"
    }
   ],
   "source": [
    "X= df.drop(['attack'], axis=1)\n",
    "y = df['attack']\n",
    "y"
   ]
  },
  {
   "cell_type": "code",
   "execution_count": 19,
   "id": "98772ce9",
   "metadata": {},
   "outputs": [
    {
     "data": {
      "text/plain": [
       "<Axes: >"
      ]
     },
     "execution_count": 19,
     "metadata": {},
     "output_type": "execute_result"
    },
    {
     "data": {
      "image/png": "[encoded data removed]",
      "text/plain": [
       "<Figure size 2000x1500 with 2 Axes>"
      ]
     },
     "metadata": {},
     "output_type": "display_data"
    }
   ],
   "source": [
    "plt.figure(figsize=(20,15))\n",
    "sns.heatmap(X.corr())"
   ]
  },
  {
   "cell_type": "code",
   "execution_count": null,
   "id": "b40fa877",
   "metadata": {},
   "outputs": [],
   "source": []
  },
  {
   "cell_type": "code",
   "execution_count": 21,
   "id": "e1e8e5ef",
   "metadata": {},
   "outputs": [],
   "source": [
    "# X1=X.drop(['numoutboundcmds'], axis=1)"
   ]
  },
  {
   "cell_type": "code",
   "execution_count": null,
   "id": "37f5dda2",
   "metadata": {},
   "outputs": [],
   "source": []
  },
  {
   "cell_type": "code",
   "execution_count": 23,
   "id": "fd749a37",
   "metadata": {},
   "outputs": [],
   "source": [
    "# plt.figure(figsize=(20,15))\n",
    "# sns.heatmap(X1.corr())"
   ]
  },
  {
   "cell_type": "code",
   "execution_count": null,
   "id": "89213beb",
   "metadata": {},
   "outputs": [],
   "source": [
    "# sns.countplot(y)"
   ]
  },
  {
   "cell_type": "code",
   "execution_count": 25,
   "id": "63afec5a",
   "metadata": {},
   "outputs": [],
   "source": [
    "scaler = StandardScaler()\n",
    "scaler.fit(X)\n",
    "X_transformed = scaler.transform(X)"
   ]
  },
  {
   "cell_type": "code",
   "execution_count": null,
   "id": "eddc38ab",
   "metadata": {},
   "outputs": [],
   "source": [
    "# Logistic Regression on trained dataset"
   ]
  },
  {
   "cell_type": "code",
   "execution_count": 27,
   "id": "c7176bd2",
   "metadata": {},
   "outputs": [],
   "source": [
    "lr = LogisticRegression()\n",
    "lr.fit(X_transformed,y)\n",
    "lr_pred=lr.predict(X_transformed)"
   ]
  },
  {
   "cell_type": "code",
   "execution_count": 28,
   "id": "3837a579",
   "metadata": {},
   "outputs": [],
   "source": [
    "lr_df=pd.DataFrame()\n",
    "lr_df['actual']=y\n",
    "lr_df['pred']=lr_pred"
   ]
  },
  {
   "cell_type": "code",
   "execution_count": 29,
   "id": "8e4ba249",
   "metadata": {},
   "outputs": [
    {
     "data": {
      "text/html": [
       "<div>\n",
       "<style scoped>\n",
       "    .dataframe tbody tr th:only-of-type {\n",
       "        vertical-align: middle;\n",
       "    }\n",
       "\n",
       "    .dataframe tbody tr th {\n",
       "        vertical-align: top;\n",
       "    }\n",
       "\n",
       "    .dataframe thead th {\n",
       "        text-align: right;\n",
       "    }\n",
       "</style>\n",
       "<table border=\"1\" class=\"dataframe\">\n",
       "  <thead>\n",
       "    <tr style=\"text-align: right;\">\n",
       "      <th></th>\n",
       "      <th>actual</th>\n",
       "      <th>pred</th>\n",
       "    </tr>\n",
       "  </thead>\n",
       "  <tbody>\n",
       "    <tr>\n",
       "      <th>0</th>\n",
       "      <td>0</td>\n",
       "      <td>0</td>\n",
       "    </tr>\n",
       "    <tr>\n",
       "      <th>1</th>\n",
       "      <td>1</td>\n",
       "      <td>1</td>\n",
       "    </tr>\n",
       "    <tr>\n",
       "      <th>2</th>\n",
       "      <td>1</td>\n",
       "      <td>1</td>\n",
       "    </tr>\n",
       "    <tr>\n",
       "      <th>3</th>\n",
       "      <td>1</td>\n",
       "      <td>1</td>\n",
       "    </tr>\n",
       "    <tr>\n",
       "      <th>4</th>\n",
       "      <td>0</td>\n",
       "      <td>0</td>\n",
       "    </tr>\n",
       "  </tbody>\n",
       "</table>\n",
       "</div>"
      ],
      "text/plain": [
       "   actual  pred\n",
       "0       0     0\n",
       "1       1     1\n",
       "2       1     1\n",
       "3       1     1\n",
       "4       0     0"
      ]
     },
     "execution_count": 29,
     "metadata": {},
     "output_type": "execute_result"
    }
   ],
   "source": [
    "lr_df.head()"
   ]
  },
  {
   "cell_type": "code",
   "execution_count": 30,
   "id": "75b422b6",
   "metadata": {},
   "outputs": [
    {
     "name": "stdout",
     "output_type": "stream",
     "text": [
      "0.999896367090794\n"
     ]
    }
   ],
   "source": [
    "print(accuracy_score(y, lr_pred))"
   ]
  },
  {
   "cell_type": "code",
   "execution_count": 31,
   "id": "8d8eba5d",
   "metadata": {},
   "outputs": [],
   "source": [
    "y_test_df = pd.read_csv('Sample_Submission.csv')"
   ]
  },
  {
   "cell_type": "code",
   "execution_count": 32,
   "id": "0426859b",
   "metadata": {},
   "outputs": [],
   "source": [
    "# y_test = y_test_df['attack']\n",
    "y_test=le.fit_transform(y_test_df['attack'])"
   ]
  },
  {
   "cell_type": "code",
   "execution_count": null,
   "id": "1627a1d5",
   "metadata": {},
   "outputs": [],
   "source": []
  },
  {
   "cell_type": "code",
   "execution_count": null,
   "id": "af61ee0b",
   "metadata": {},
   "outputs": [],
   "source": [
    "# \n",
    "test_df = pd.read_csv('Test_Data.csv')"
   ]
  },
  {
   "cell_type": "code",
   "execution_count": null,
   "id": "384487a1",
   "metadata": {},
   "outputs": [],
   "source": [
    "test_df.head()"
   ]
  },
  {
   "cell_type": "code",
   "execution_count": null,
   "id": "badf0687",
   "metadata": {},
   "outputs": [],
   "source": [
    "test_df = test_df.drop(['land', 'urgent', 'numfailedlogins','numoutboundcmds'], axis=1)"
   ]
  },
  {
   "cell_type": "code",
   "execution_count": null,
   "id": "853c536b",
   "metadata": {},
   "outputs": [],
   "source": [
    "test_df.shape"
   ]
  },
  {
   "cell_type": "code",
   "execution_count": null,
   "id": "de7d9602",
   "metadata": {},
   "outputs": [],
   "source": [
    "test_df['wrongfragment'].describe()"
   ]
  },
  {
   "cell_type": "code",
   "execution_count": null,
   "id": "449fdf0e",
   "metadata": {},
   "outputs": [],
   "source": [
    "#Applying Logistic Regression To Test Set"
   ]
  },
  {
   "cell_type": "code",
   "execution_count": null,
   "id": "5b8f1954",
   "metadata": {},
   "outputs": [],
   "source": [
    "test_df['protocoltype']=le.fit_transform(test_df['protocoltype'])\n",
    "test_df['service']=le.fit_transform(test_df['service'])\n",
    "test_df['flag']=le.fit_transform(test_df['flag'])"
   ]
  },
  {
   "cell_type": "code",
   "execution_count": null,
   "id": "a4655a37",
   "metadata": {},
   "outputs": [],
   "source": [
    "X_test_transformed = scaler.transform(test_df)\n"
   ]
  },
  {
   "cell_type": "code",
   "execution_count": null,
   "id": "263d33fc",
   "metadata": {},
   "outputs": [],
   "source": [
    "ytest_pred = lr.predict(X_test_transformed)"
   ]
  },
  {
   "cell_type": "code",
   "execution_count": null,
   "id": "19409890",
   "metadata": {},
   "outputs": [],
   "source": [
    "print(accuracy_score(y_test, ytest_pred))"
   ]
  },
  {
   "cell_type": "code",
   "execution_count": null,
   "id": "084c8cdf",
   "metadata": {},
   "outputs": [],
   "source": [
    "# Random Forest"
   ]
  },
  {
   "cell_type": "code",
   "execution_count": null,
   "id": "a1ccb446",
   "metadata": {},
   "outputs": [],
   "source": [
    "rf=RandomForestClassifier()\n",
    "rf.fit(X_transformed,y)\n",
    "rf_pred=rf.predict(X_transformed)"
   ]
  },
  {
   "cell_type": "code",
   "execution_count": null,
   "id": "da5fca89",
   "metadata": {},
   "outputs": [],
   "source": [
    "rf_test_pred = rf.predict(test_df)"
   ]
  },
  {
   "cell_type": "code",
   "execution_count": null,
   "id": "538eed71",
   "metadata": {},
   "outputs": [],
   "source": [
    "print(accuracy_score(y, rf_pred))\n",
    "print(accuracy_score(y_test, rf_test_pred))"
   ]
  },
  {
   "cell_type": "code",
   "execution_count": null,
   "id": "6ea5d570",
   "metadata": {},
   "outputs": [],
   "source": [
    "confusion_matrix(y_test, rf_test_pred)"
   ]
  },
  {
   "cell_type": "code",
   "execution_count": null,
   "id": "21a13462",
   "metadata": {},
   "outputs": [],
   "source": [
    "print(classification_report(y_test, rf_test_pred))"
   ]
  },
  {
   "cell_type": "code",
   "execution_count": null,
   "id": "db7036ae",
   "metadata": {},
   "outputs": [],
   "source": [
    "# SVM"
   ]
  },
  {
   "cell_type": "code",
   "execution_count": null,
   "id": "00d27236",
   "metadata": {},
   "outputs": [],
   "source": [
    "svm_model = SVC(kernel='rbf', random_state=42)\n",
    "svm_model.fit(X_transformed, y)\n",
    "svm_pred=svm_model.predict(X_transformed)\n",
    "svm_test_pred=svm_model.predict(test_df)\n",
    "\n",
    "print(accuracy_score(y, svm_pred))\n",
    "print(accuracy_score(y_test, svm_test_pred))\n",
    "print(classification_report(y, svm_pred))\n",
    "print(classification_report(y_test, svm_test_pred))"
   ]
  },
  {
   "cell_type": "code",
   "execution_count": null,
   "id": "44439162",
   "metadata": {},
   "outputs": [],
   "source": [
    "# y_prob = svm_model.predict(X_test_transformed)\n",
    "\n",
    "# fpr, tpr, thresholds = roc_curve(y_test, y_prob)\n",
    "\n",
    "# roc_auc = auc(fpr, tpr)\n",
    "\n",
    "# plt.figure(figsize=(8, 6))\n",
    "# plt.plot(fpr, tpr, color='darkorange', lw=2, label=f'ROC curve (AUC = {roc_auc:.2f})')\n",
    "# plt.plot([0, 1], [0, 1], color='navy', lw=2, linestyle='--', label='Random')\n",
    "# plt.xlabel('False Positive Rate')\n",
    "# plt.ylabel('True Positive Rate')\n",
    "# plt.title('Receiver Operating Characteristic (ROC) Curve')\n",
    "# plt.legend(loc='lower right')\n",
    "# plt.show()"
   ]
  },
  {
   "cell_type": "code",
   "execution_count": null,
   "id": "15de9202",
   "metadata": {},
   "outputs": [],
   "source": [
    "# Neural Networks"
   ]
  },
  {
   "cell_type": "code",
   "execution_count": null,
   "id": "7658e059",
   "metadata": {},
   "outputs": [],
   "source": [
    "df['attack']=le.fit_transform(df['attack'])\n",
    "y = df['attack']"
   ]
  },
  {
   "cell_type": "code",
   "execution_count": null,
   "id": "83e4fdbc",
   "metadata": {},
   "outputs": [],
   "source": [
    "train_df = df.sample(frac=0.75, random_state=4)"
   ]
  },
  {
   "cell_type": "code",
   "execution_count": null,
   "id": "c7d00221",
   "metadata": {},
   "outputs": [],
   "source": [
    "val_df = df.drop(train_df.index)"
   ]
  },
  {
   "cell_type": "code",
   "execution_count": null,
   "id": "7ca4bf1c",
   "metadata": {},
   "outputs": [],
   "source": [
    "# model = Sequential([\n",
    "#     Dense(64, activation='relu', input_shape=(X_transformed.shape[1],)),\n",
    "#     Dropout(0.2),\n",
    "#     Dense(32, activation='relu'),\n",
    "#     Dropout(0.2),\n",
    "#     Dense(1, activation='sigmoid')\n",
    "# ])"
   ]
  },
  {
   "cell_type": "code",
   "execution_count": null,
   "id": "dafa5554",
   "metadata": {},
   "outputs": [],
   "source": [
    "X_transformed.shape"
   ]
  },
  {
   "cell_type": "code",
   "execution_count": null,
   "id": "8e1a433d",
   "metadata": {},
   "outputs": [],
   "source": [
    "X.shape"
   ]
  },
  {
   "cell_type": "code",
   "execution_count": null,
   "id": "74f0d13f",
   "metadata": {},
   "outputs": [],
   "source": [
    "df.shape"
   ]
  },
  {
   "cell_type": "code",
   "execution_count": null,
   "id": "dec260dc",
   "metadata": {},
   "outputs": [],
   "source": []
  },
  {
   "cell_type": "code",
   "execution_count": null,
   "id": "8e329ec8",
   "metadata": {},
   "outputs": [],
   "source": []
  },
  {
   "cell_type": "code",
   "execution_count": null,
   "id": "7492c6b6",
   "metadata": {},
   "outputs": [],
   "source": []
  },
  {
   "cell_type": "code",
   "execution_count": null,
   "id": "6e9b74ef",
   "metadata": {},
   "outputs": [],
   "source": []
  },
  {
   "cell_type": "code",
   "execution_count": null,
   "id": "339f388c",
   "metadata": {},
   "outputs": [],
   "source": [
    "max_val = train_df.max(axis= 0)\n",
    "min_val = train_df.min(axis= 0)\n",
    " \n",
    "range = max_val - min_val\n",
    "train_df = (train_df - min_val)/(range)\n",
    " \n",
    "val_df =  (val_df- min_val)/range"
   ]
  },
  {
   "cell_type": "code",
   "execution_count": null,
   "id": "7407efc2",
   "metadata": {},
   "outputs": [],
   "source": [
    "X_train = train_df.drop('attack',axis=1)\n",
    "X_val = val_df.drop('attack',axis=1)\n",
    "y_train = train_df['attack']\n",
    "y_val = val_df['attack']\n",
    "\n",
    "input_shape = [X_train.shape[1]]\n",
    "input_shape"
   ]
  },
  {
   "cell_type": "code",
   "execution_count": null,
   "id": "01645db9",
   "metadata": {},
   "outputs": [],
   "source": [
    "\n",
    "# model = tf.keras.Sequential([\n",
    "# tf.keras.layers.Dense(units=1,input_shape=input_shape)])\n",
    " \n",
    "# # after you create your model it's\n",
    "# # always a good habit to print out it's summary\n",
    "# model.summary()"
   ]
  },
  {
   "cell_type": "code",
   "execution_count": null,
   "id": "b60d24e7",
   "metadata": {},
   "outputs": [],
   "source": [
    "# model = tf.keras.Sequential([\n",
    " \n",
    "#     tf.keras.layers.Dense(units=64, activation='relu',\n",
    "#                           input_shape=input_shape), Dropout(0.2),\n",
    "#     tf.keras.layers.Dense(units=32, activation='relu'), Dropout(0.2),\n",
    "#     tf.keras.layers.Dense(units=1, activation='sigmoid')\n",
    "# ])\n",
    "# model.summary()"
   ]
  },
  {
   "cell_type": "code",
   "execution_count": null,
   "id": "fda7b9b4",
   "metadata": {},
   "outputs": [],
   "source": [
    "# model.compile(optimizer='adam',  \n",
    "               \n",
    "#               # MAE error is good for\n",
    "#               # numerical predictions\n",
    "#               loss='binary_crossentropy', metrics=['accuracy']) "
   ]
  },
  {
   "cell_type": "code",
   "execution_count": null,
   "id": "03f1d2e6",
   "metadata": {},
   "outputs": [],
   "source": [
    "# losses = model.fit(X_train, y_train,\n",
    " \n",
    "# #                    validation_data=(X_val, y_val),\n",
    "                    \n",
    "#                    # it will use 'batch_size' number\n",
    "#                    # of examples per example\n",
    "#                    batch_size=32, \n",
    "#                    epochs=20,  # total epoch\n",
    "#                    validation_split=0.2\n",
    "#                    )"
   ]
  },
  {
   "cell_type": "code",
   "execution_count": null,
   "id": "f1c61217",
   "metadata": {},
   "outputs": [],
   "source": [
    "model = Sequential([\n",
    "    Dense(64, activation='relu', input_shape=(X_transformed.shape[1],)),\n",
    "    Dropout(0.2),\n",
    "    Dense(32, activation='relu'),\n",
    "    Dropout(0.2),\n",
    "    Dense(1, activation='sigmoid')\n",
    "])"
   ]
  },
  {
   "cell_type": "code",
   "execution_count": null,
   "id": "91d413dd",
   "metadata": {},
   "outputs": [],
   "source": [
    "model.compile(optimizer='adam', loss='binary_crossentropy', metrics=['accuracy'])"
   ]
  },
  {
   "cell_type": "code",
   "execution_count": null,
   "id": "137caf07",
   "metadata": {},
   "outputs": [],
   "source": [
    "# history = model.fit(X_transformed, y, epochs=20, batch_size=32)"
   ]
  },
  {
   "cell_type": "code",
   "execution_count": null,
   "id": "331acf0b",
   "metadata": {},
   "outputs": [],
   "source": [
    "losses = model.fit(X_transformed, y, epochs=20, batch_size=32, validation_data=(X_val, y_val))"
   ]
  },
  {
   "cell_type": "markdown",
   "id": "e7afa800",
   "metadata": {},
   "source": [
    "#### Decision Tree"
   ]
  },
  {
   "cell_type": "code",
   "execution_count": null,
   "id": "3cdd8c71",
   "metadata": {},
   "outputs": [],
   "source": [
    "from sklearn.tree import DecisionTreeClassifier"
   ]
  },
  {
   "cell_type": "code",
   "execution_count": null,
   "id": "3110b63d",
   "metadata": {},
   "outputs": [],
   "source": [
    "def train_using_gini(X_train, X_test, y_train):\n",
    "\n",
    "    # Creating the classifier object\n",
    "    clf_gini = DecisionTreeClassifier(criterion=\"gini\",\n",
    "                                      random_state=100, max_depth=20, min_samples_leaf=5)\n",
    "\n",
    "    # Performing training\n",
    "    clf_gini.fit(X_train, y_train)\n",
    "    return clf_gini"
   ]
  },
  {
   "cell_type": "code",
   "execution_count": null,
   "id": "59d34b3e",
   "metadata": {},
   "outputs": [],
   "source": [
    "def train_using_entropy(X_train, X_test, y_train):\n",
    "\n",
    "    # Decision tree with entropy\n",
    "    clf_entropy = DecisionTreeClassifier(\n",
    "        criterion=\"entropy\", random_state=100,\n",
    "        max_depth=3, min_samples_leaf=5)\n",
    "\n",
    "    # Performing training\n",
    "    clf_entropy.fit(X_train, y_train)\n",
    "    return clf_entropy\n"
   ]
  },
  {
   "cell_type": "code",
   "execution_count": null,
   "id": "357197e7",
   "metadata": {},
   "outputs": [],
   "source": [
    "# Function to make predictions\n",
    "def prediction(X_test, clf_object):\n",
    "    y_pred = clf_object.predict(X_test)\n",
    "    print(\"Predicted values:\")\n",
    "    print(y_pred)\n",
    "    return y_pred\n",
    "\n",
    "# Placeholder function for cal_accuracy\n",
    "def cal_accuracy(y_test, y_pred):\n",
    "    print(\"Confusion Matrix: \",\n",
    "          confusion_matrix(y_test, y_pred))\n",
    "    print(\"Accuracy : \",\n",
    "          accuracy_score(y_test, y_pred)*100)\n",
    "    print(\"Report : \",\n",
    "          classification_report(y_test, y_pred))\n"
   ]
  },
  {
   "cell_type": "code",
   "execution_count": null,
   "id": "73025379",
   "metadata": {},
   "outputs": [],
   "source": [
    " from sklearn import tree\n",
    "# Function to plot the decision tree\n",
    "def plot_decision_tree(clf_object, feature_names, class_names):\n",
    "    plt.figure(figsize=(15, 10))\n",
    "    plot_tree(clf_object, filled=True, feature_names=feature_names, class_names=class_names, rounded=True)\n",
    "    plt.show()\n"
   ]
  },
  {
   "cell_type": "code",
   "execution_count": null,
   "id": "b1ed88af",
   "metadata": {},
   "outputs": [],
   "source": [
    "if __name__ == \"__main__\":\n",
    "\n",
    "    clf_gini = train_using_gini(X_train, X_test_transformed, y_train)\n",
    "    clf_entropy = train_using_entropy(X_train, X_test_transformed, y_train)\n",
    "\n",
    "    # Visualizing the Decision Trees\n",
    "#     plot_decision_tree(clf_gini)\n",
    "#     plot_decision_tree(clf_entropy)\n"
   ]
  },
  {
   "cell_type": "code",
   "execution_count": null,
   "id": "ce49b55c",
   "metadata": {},
   "outputs": [],
   "source": [
    "# Operational Phase\n",
    "print(\"Results Using Gini Index:\")\n",
    "y_pred_gini = prediction(X_test_transformed, clf_gini)\n",
    "cal_accuracy(y_test, y_pred_gini)"
   ]
  },
  {
   "cell_type": "code",
   "execution_count": null,
   "id": "4182634f",
   "metadata": {},
   "outputs": [],
   "source": [
    "print(\"Results Using Entropy:\")\n",
    "y_pred_entropy = prediction(X_test_transformed, clf_entropy)\n",
    "cal_accuracy(y_test, y_pred_entropy)\n"
   ]
  },
  {
   "cell_type": "code",
   "execution_count": null,
   "id": "fce7ab0e",
   "metadata": {},
   "outputs": [],
   "source": [
    "y_pred_gini"
   ]
  },
  {
   "cell_type": "code",
   "execution_count": null,
   "id": "037c3c11",
   "metadata": {},
   "outputs": [],
   "source": [
    "# predicted_data_01 = scaler.inverse_transform(y_pred_gini)"
   ]
  },
  {
   "cell_type": "code",
   "execution_count": null,
   "id": "27a1c009",
   "metadata": {},
   "outputs": [],
   "source": [
    "y_pred_gini = pd.DataFrame(y_pred_gini,columns=['attack'])\n",
    "y_pred_gini"
   ]
  },
  {
   "cell_type": "code",
   "execution_count": null,
   "id": "b12484d4",
   "metadata": {},
   "outputs": [],
   "source": [
    "y_pred_gini.to_csv(f\"NAD_ShreyaB.csv\", index=False)"
   ]
  },
  {
   "cell_type": "code",
   "execution_count": null,
   "id": "d2c5b20d",
   "metadata": {},
   "outputs": [],
   "source": []
  },
  {
   "cell_type": "markdown",
   "id": "10a320e7",
   "metadata": {},
   "source": [
    "## Using KNN"
   ]
  },
  {
   "cell_type": "code",
   "execution_count": null,
   "id": "32b710d7",
   "metadata": {},
   "outputs": [],
   "source": [
    "import numpy as np\n",
    "import pandas as pd\n",
    "from sklearn.preprocessing import LabelEncoder\n",
    "from sklearn.cluster import KMeans\n",
    "from sklearn import metrics\n",
    "import matplotlib.pyplot as plt\n",
    "import warnings\n",
    "warnings.filterwarnings(\"ignore\")"
   ]
  },
  {
   "cell_type": "code",
   "execution_count": null,
   "id": "3d5ecea0",
   "metadata": {},
   "outputs": [],
   "source": [
    "df"
   ]
  },
  {
   "cell_type": "code",
   "execution_count": null,
   "id": "c2999fbe",
   "metadata": {},
   "outputs": [],
   "source": [
    "a=[]\n",
    "K=range(1,39)\n",
    "for i in K:\n",
    "    kmean=KMeans(n_clusters=i)\n",
    "    kmean.fit(df)\n",
    "    a.append(kmean.inertia_)\n",
    "    \n",
    "plt.plot(K,a,marker='o')\n",
    "plt.title('Elbow Method',fontsize=15)\n",
    "plt.xlabel('Number of clusters',fontsize=15)\n",
    "plt.ylabel('Sum of Squared distance',fontsize=15)\n",
    "plt.show()"
   ]
  },
  {
   "cell_type": "code",
   "execution_count": null,
   "id": "cee797eb",
   "metadata": {},
   "outputs": [],
   "source": []
  }
 ],
 "metadata": {
  "kernelspec": {
   "display_name": "Python 3 (ipykernel)",
   "language": "python",
   "name": "python3"
  },
  "language_info": {
   "codemirror_mode": {
    "name": "ipython",
    "version": 3
   },
   "file_extension": ".py",
   "mimetype": "text/x-python",
   "name": "python",
   "nbconvert_exporter": "python",
   "pygments_lexer": "ipython3",
   "version": "3.11.3"
  }
 },
 "nbformat": 4,
 "nbformat_minor": 5
}
